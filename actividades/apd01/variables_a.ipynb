{
 "cells": [
  {
   "cell_type": "code",
   "execution_count": null,
   "metadata": {
    "tags": []
   },
   "outputs": [],
   "source": [
    "# Usar el simulador de Tello\n",
    "import tello_sim\n",
    "drone = tello_sim.Simulator()"
   ]
  },
  {
   "cell_type": "code",
   "execution_count": null,
   "metadata": {
    "tags": []
   },
   "outputs": [],
   "source": [
    "# Despegar\n",
    "drone.takeoff()"
   ]
  },
  {
   "cell_type": "markdown",
   "metadata": {},
   "source": [
    "## Qué son las variables en programación y para qué sirven."
   ]
  },
  {
   "cell_type": "code",
   "execution_count": null,
   "metadata": {
    "tags": []
   },
   "outputs": [],
   "source": [
    "altura_actual = 81 # Para guardar un valor en una variable se usa el signo igual\n",
    "NuevaAltura = 194 # Se pueden usar mayúsculas y minúsculas\n",
    "diferencia = NuevaAltura - altura_actual # Se puede guardar el resultado de una operación\n",
    "print('La diferencia de la altura es ', diferencia) # ¿Qué valor tiene la variable?"
   ]
  },
  {
   "cell_type": "code",
   "execution_count": null,
   "metadata": {
    "tags": []
   },
   "outputs": [],
   "source": [
    "# Subir\n",
    "drone.up(diferencia)"
   ]
  },
  {
   "cell_type": "code",
   "execution_count": null,
   "metadata": {
    "tags": []
   },
   "outputs": [],
   "source": [
    "# El simulador guarda en una variable la altura actual\n",
    "print('La altura del dron es ', drone.altitude)"
   ]
  },
  {
   "cell_type": "code",
   "execution_count": null,
   "metadata": {
    "tags": []
   },
   "outputs": [],
   "source": [
    "# ¿Coincide con lo que queremos hacer?\n",
    "print('La altura tendría que ser ', NuevaAltura)"
   ]
  },
  {
   "cell_type": "code",
   "execution_count": null,
   "metadata": {
    "tags": []
   },
   "outputs": [],
   "source": [
    "# Si usamos una variable dos veces estaremos cambiando su valor, pero sólo a partir de ese instante. \n",
    "print('La diferencia es ', diferencia)\n",
    "diferencia = 10\n",
    "print('Ahora la diferencia es ', diferencia)\n",
    "print('La altura del dron no ha cambiado. Sigue siendo ', drone.altitude)"
   ]
  },
  {
   "cell_type": "code",
   "execution_count": null,
   "metadata": {
    "tags": []
   },
   "outputs": [],
   "source": [
    "# Subir\n",
    "drone.up(diferencia) # Para que tenga efecto tenemos que informar al dron"
   ]
  },
  {
   "cell_type": "code",
   "execution_count": null,
   "metadata": {},
   "outputs": [],
   "source": [
    "# Si usamos signos no permitidos o espacios en blanco en los nombres de variables se producirá un error.\n",
    "nueva altura = 3"
   ]
  }
 ],
 "metadata": {
  "kernelspec": {
   "display_name": "Python 3",
   "language": "python",
   "name": "python3"
  },
  "language_info": {
   "codemirror_mode": {
    "name": "ipython",
    "version": 3
   },
   "file_extension": ".py",
   "mimetype": "text/x-python",
   "name": "python",
   "nbconvert_exporter": "python",
   "pygments_lexer": "ipython3",
   "version": "3.7.8"
  }
 },
 "nbformat": 4,
 "nbformat_minor": 2
}
