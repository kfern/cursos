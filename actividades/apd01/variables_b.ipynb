{
 "metadata": {
  "language_info": {
   "codemirror_mode": {
    "name": "ipython",
    "version": 3
   },
   "file_extension": ".py",
   "mimetype": "text/x-python",
   "name": "python",
   "nbconvert_exporter": "python",
   "pygments_lexer": "ipython3",
   "version": "3.6.9-final"
  },
  "orig_nbformat": 2,
  "kernelspec": {
   "name": "python_defaultSpec_1598186570328",
   "display_name": "Python 3.6.9 64-bit"
  }
 },
 "nbformat": 4,
 "nbformat_minor": 2,
 "cells": [
  {
   "cell_type": "code",
   "execution_count": null,
   "metadata": {
    "tags": []
   },
   "outputs": [],
   "source": [
    "# Usar el simulador de Tello\n",
    "import tello_sim\n",
    "drone = tello_sim.Simulator()"
   ]
  },
  {
   "cell_type": "code",
   "execution_count": null,
   "metadata": {
    "tags": []
   },
   "outputs": [],
   "source": [
    "# Despegar\n",
    "drone.takeoff()"
   ]
  },
  {
   "cell_type": "markdown",
   "metadata": {},
   "source": [
    "## Qué se puede guardar en una variable"
   ]
  },
  {
   "cell_type": "code",
   "execution_count": null,
   "metadata": {},
   "outputs": [],
   "source": [
    "altura_actual = 81 # Para guardar un valor en una variable se usa el signo igual\n",
    "NuevaAltura = 194 # Se pueden usar mayúsculas y minúsculas\n",
    "diferencia = NuevaAltura - altura_actual # Se puede guardar el resultado de una operación\n",
    "print('La diferencia de la altura es ', diferencia) # ¿Qué valor tiene la variable?"
   ]
  },
  {
   "cell_type": "code",
   "execution_count": null,
   "metadata": {
    "tags": []
   },
   "outputs": [],
   "source": [
    "# Números\n",
    "print(NuevaAltura)"
   ]
  },
  {
   "cell_type": "code",
   "execution_count": null,
   "metadata": {
    "tags": []
   },
   "outputs": [],
   "source": [
    "# Textos\n",
    "pregunta = '¿Cual debe ser la nueva altura?'\n",
    "print(pregunta)"
   ]
  },
  {
   "cell_type": "code",
   "execution_count": null,
   "metadata": {
    "tags": []
   },
   "outputs": [],
   "source": [
    "# Listas\n",
    "print(drone.altitude_data)"
   ]
  },
  {
   "cell_type": "code",
   "execution_count": null,
   "metadata": {
    "tags": []
   },
   "outputs": [],
   "source": [
    "# Estructuras complejas\n",
    "print(drone.command_log)"
   ]
  },
  {
   "cell_type": "code",
   "execution_count": null,
   "metadata": {
    "tags": []
   },
   "outputs": [],
   "source": [
    "# También podemos pedir la información a la persona que esté usando el programa.\n",
    "NuevaAltura = input(pregunta)\n",
    "print('La nueva altura tiene que ser ', NuevaAltura)"
   ]
  }
 ]
}