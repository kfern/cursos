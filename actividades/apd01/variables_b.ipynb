{
 "cells": [
  {
   "cell_type": "code",
   "execution_count": null,
   "metadata": {
    "tags": []
   },
   "outputs": [],
   "source": [
    "# Usar el simulador de Tello\n",
    "import tello_sim\n",
    "drone = tello_sim.Simulator()"
   ]
  },
  {
   "cell_type": "code",
   "execution_count": null,
   "metadata": {
    "tags": []
   },
   "outputs": [],
   "source": [
    "# Despegar\n",
    "drone.takeoff()"
   ]
  },
  {
   "cell_type": "code",
   "execution_count": null,
   "metadata": {
    "tags": []
   },
   "outputs": [],
   "source": [
    "# Ascender\n",
    "drone.up(9)"
   ]
  },
  {
   "cell_type": "markdown",
   "metadata": {},
   "source": [
    "## Qué se puede guardar en una variable"
   ]
  },
  {
   "cell_type": "code",
   "execution_count": null,
   "metadata": {
    "tags": []
   },
   "outputs": [],
   "source": [
    "altura_actual = 90 # Para guardar un valor en una variable se usa el signo igual\n",
    "NuevaAltura = 194 # Se pueden usar mayúsculas y minúsculas\n",
    "diferencia = NuevaAltura - altura_actual # Se puede guardar el resultado de una operación\n",
    "print('La diferencia de la altura es', diferencia) # ¿Qué valor tiene la variable?"
   ]
  },
  {
   "cell_type": "code",
   "execution_count": null,
   "metadata": {
    "tags": []
   },
   "outputs": [],
   "source": [
    "# Números\n",
    "print(NuevaAltura)"
   ]
  },
  {
   "cell_type": "code",
   "execution_count": null,
   "metadata": {
    "tags": []
   },
   "outputs": [],
   "source": [
    "# Textos\n",
    "pregunta = '¿Cual debe ser la nueva altura? ' # Los textos van entre comillas\n",
    "print(pregunta)"
   ]
  },
  {
   "cell_type": "code",
   "execution_count": null,
   "metadata": {
    "tags": []
   },
   "outputs": [],
   "source": [
    "# Listas\n",
    "print(drone.altitude_data)"
   ]
  },
  {
   "cell_type": "code",
   "execution_count": null,
   "metadata": {
    "tags": []
   },
   "outputs": [],
   "source": [
    "# Estructuras complejas\n",
    "print(drone.command_log)"
   ]
  },
  {
   "cell_type": "code",
   "execution_count": null,
   "metadata": {
    "tags": []
   },
   "outputs": [],
   "source": [
    "# También podemos pedir la información a quien esté usando el programa.\n",
    "NuevaAltura = input(pregunta)\n",
    "print('La nueva altura tiene que ser', NuevaAltura)"
   ]
  },
  {
   "cell_type": "code",
   "execution_count": null,
   "metadata": {
    "tags": []
   },
   "outputs": [],
   "source": [
    "# Un valor numérico puede ser de tipo número o texto\n",
    "# Para realizar operaciones matemáticas los datos han ser de tipo número\n",
    "print('drone.altitude es de tipo', type(drone.altitude))\n",
    "print('NuevaAltura es de tipo', type(NuevaAltura))\n",
    "diferencia = drone.altitude - NuevaAltura"
   ]
  }
 ],
 "metadata": {
  "kernelspec": {
   "display_name": "Python 3",
   "language": "python",
   "name": "python3"
  },
  "language_info": {
   "codemirror_mode": {
    "name": "ipython",
    "version": 3
   },
   "file_extension": ".py",
   "mimetype": "text/x-python",
   "name": "python",
   "nbconvert_exporter": "python",
   "pygments_lexer": "ipython3",
   "version": "3.6.9-final"
  }
 },
 "nbformat": 4,
 "nbformat_minor": 2
}