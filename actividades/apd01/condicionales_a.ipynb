{
 "cells": [
  {
   "cell_type": "code",
   "execution_count": null,
   "metadata": {
    "tags": []
   },
   "outputs": [],
   "source": [
    "# Usar el simulador de Tello\n",
    "import tello_sim\n",
    "drone = tello_sim.Simulator()"
   ]
  },
  {
   "cell_type": "code",
   "execution_count": null,
   "metadata": {
    "tags": []
   },
   "outputs": [],
   "source": [
    "# Despegar\n",
    "drone.takeoff()"
   ]
  },
  {
   "cell_type": "code",
   "execution_count": null,
   "metadata": {},
   "outputs": [],
   "source": [
    "# Guardar en una variable la altura deseada\n",
    "NuevaAltura = input('¿Nueva altura? ')"
   ]
  },
  {
   "cell_type": "code",
   "execution_count": null,
   "metadata": {
    "tags": []
   },
   "outputs": [],
   "source": [
    "# Comprobar si el dron está a la altura deseada\n",
    "print('Altura actual', drone.altitude)\n",
    "if (drone.altitude == NuevaAltura):\n",
    "    print('Reto superado')\n",
    "else:\n",
    "    print('Lo siento pero la altura esperada es', NuevaAltura)"
   ]
  },
  {
   "cell_type": "code",
   "execution_count": null,
   "metadata": {
    "tags": []
   },
   "outputs": [],
   "source": [
    "# Sólo son iguales si tienen el mismo valor y el mismo tipo de dato\n",
    "# Observa que estamos usando int(NuevaAltura) para convertir el valor a un número\n",
    "print('Altura actual', drone.altitude)\n",
    "if (drone.altitude == int(NuevaAltura)):\n",
    "    print('Reto superado')\n",
    "else:\n",
    "    print('Lo siento pero la altura esperada es', NuevaAltura)"
   ]
  }
 ],
 "metadata": {
  "kernelspec": {
   "display_name": "Python 3",
   "language": "python",
   "name": "python3"
  },
  "language_info": {
   "codemirror_mode": {
    "name": "ipython",
    "version": 3
   },
   "file_extension": ".py",
   "mimetype": "text/x-python",
   "name": "python",
   "nbconvert_exporter": "python",
   "pygments_lexer": "ipython3",
   "version": "3.6.9-final"
  }
 },
 "nbformat": 4,
 "nbformat_minor": 2
}